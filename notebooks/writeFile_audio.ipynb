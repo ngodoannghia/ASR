{
 "cells": [
  {
   "cell_type": "code",
   "execution_count": 6,
   "metadata": {},
   "outputs": [],
   "source": [
    "import os\n",
    "import pandas as pd\n",
    "from tqdm import tqdm"
   ]
  },
  {
   "cell_type": "code",
   "execution_count": 7,
   "metadata": {},
   "outputs": [],
   "source": [
    "train_dir = \"../data/raw/train\"\n",
    "val_dir = \"../data/raw/val\"\n",
    "test_dir = \"../data/raw/test\""
   ]
  },
  {
   "cell_type": "code",
   "execution_count": 20,
   "metadata": {},
   "outputs": [],
   "source": [
    "def get_files(path_dir, ext='.parquet'):\n",
    "    all_files = []\n",
    "    for filename in os.listdir(path_dir):\n",
    "        if filename.endswith(ext):\n",
    "            file_path = os.path.join(path_dir, filename)\n",
    "            all_files.append(file_path)\n",
    "    \n",
    "    return all_files\n",
    "\n",
    "def save_audio(row, path_audio, path_label):\n",
    "    audio = row['audio']['bytes']\n",
    "    transcription = row['transcription']\n",
    "    \n",
    "    with open(path_audio, 'wb') as f:\n",
    "        f.write(audio)\n",
    "    \n",
    "    with open(path_label, 'w', encoding='utf-8') as f:\n",
    "        f.write(transcription)    \n",
    "        \n",
    "def process_data(all_files, root_dir, kind='train'):\n",
    "    count = 0\n",
    "    for f in all_files:\n",
    "        print(\"Process file: \", f)\n",
    "        data = pd.read_parquet(f)\n",
    "        for i in tqdm(range(len(data))):\n",
    "            row = data.iloc[i]\n",
    "            path_audio = f\"{root_dir}/audio/{kind}_{count}.wav\"\n",
    "            path_label = f\"{root_dir}/label/{kind}_{count}.txt\"\n",
    "            \n",
    "            save_audio(row, path_audio, path_label)\n",
    "            count += 1\n",
    "\n",
    "def remove_file(path_dir):\n",
    "    for f in tqdm(os.listdir(path_dir)):\n",
    "        if f.endswith('.wav'):\n",
    "            os.remove(f\"{path_dir}/{f}\")\n",
    "        elif f.endswith('.txt'):\n",
    "            os.remove(f\"{path_dir}/{f}\")\n",
    "\n",
    "def writeCSV(path_dir, kind='train'):\n",
    "    data = []\n",
    "    for name in os.listdir(f\"{path_dir}/audio\"):\n",
    "        path_audio = f\"{path_dir}/audio/{name}\"\n",
    "        path_label = f\"{path_dir}/label/{name.split('.')[0]}.txt\"\n",
    "        \n",
    "        with open(path_label, 'r', encoding='utf-8') as f:\n",
    "            sentence = f.read()\n",
    "        \n",
    "        data.append([path_audio, sentence])\n",
    "    \n",
    "    df = pd.DataFrame(data=data, columns=['audio', 'sentence'])\n",
    "    \n",
    "    df.to_csv(f\"{kind}.csv\", index=False)"
   ]
  },
  {
   "cell_type": "code",
   "execution_count": 13,
   "metadata": {},
   "outputs": [],
   "source": [
    "# Get file train, val, test\n",
    "train_files = get_files(train_dir)\n",
    "val_files = get_files(val_dir)\n",
    "test_files = get_files(test_dir)"
   ]
  },
  {
   "cell_type": "code",
   "execution_count": 10,
   "metadata": {},
   "outputs": [
    {
     "name": "stdout",
     "output_type": "stream",
     "text": [
      "Process file:  ../raw/val/validation-00000-of-00002-b410ca42218b8815.parquet\n"
     ]
    },
    {
     "name": "stderr",
     "output_type": "stream",
     "text": [
      "100%|██████████| 3750/3750 [00:00<00:00, 4919.18it/s]\n"
     ]
    }
   ],
   "source": [
    "# Process data\n",
    "process_data(train_files, train_dir, kind='train')\n",
    "process_data(val_files, val_dir, kind='val')\n",
    "process_data(test_files, test_dir, kind='test')"
   ]
  },
  {
   "cell_type": "code",
   "execution_count": 23,
   "metadata": {},
   "outputs": [],
   "source": [
    "writeCSV(\"/home/j3s/NghiaND/ASR/data/raw/train\", kind='train')\n",
    "writeCSV(\"/home/j3s/NghiaND/ASR/data/raw/val\", kind='val')\n",
    "writeCSV(\"/home/j3s/NghiaND/ASR/data/raw/test\", kind='test')"
   ]
  },
  {
   "cell_type": "code",
   "execution_count": null,
   "metadata": {},
   "outputs": [],
   "source": []
  }
 ],
 "metadata": {
  "kernelspec": {
   "display_name": "speech_to_text",
   "language": "python",
   "name": "python3"
  },
  "language_info": {
   "codemirror_mode": {
    "name": "ipython",
    "version": 3
   },
   "file_extension": ".py",
   "mimetype": "text/x-python",
   "name": "python",
   "nbconvert_exporter": "python",
   "pygments_lexer": "ipython3",
   "version": "3.10.14"
  }
 },
 "nbformat": 4,
 "nbformat_minor": 2
}
